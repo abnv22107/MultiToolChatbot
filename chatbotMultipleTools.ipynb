{
 "cells": [
  {
   "cell_type": "markdown",
   "id": "d679169c",
   "metadata": {},
   "source": [
    "## Agentic AI - Using the provided tools to answer a question\n",
    "## ReAct Framework (LLM) model to answer the question"
   ]
  },
  {
   "cell_type": "code",
   "execution_count": 4,
   "id": "14a8c6b7",
   "metadata": {},
   "outputs": [],
   "source": [
    "# Tools  \n",
    "from langchain_community.tools.arxiv.tool import ArxivQueryRun\n",
    "from langchain_community.tools.wikipedia.tool import WikipediaQueryRun\n",
    "from langchain_community.utilities import WikipediaAPIWrapper, ArxivAPIWrapper"
   ]
  },
  {
   "cell_type": "code",
   "execution_count": null,
   "id": "81ca391a",
   "metadata": {},
   "outputs": [
    {
     "name": "stdout",
     "output_type": "stream",
     "text": [
      "arxiv\n"
     ]
    }
   ],
   "source": [
    "api_wrapper_arxiv = ArxivAPIWrapper(top_k_results=2,doc_content_chars_max=500)\n",
    "arxiv = ArxivQueryRun(api_wrapper=api_wrapper_arxiv, description=\"Query Arxiv papers\")     # making the tools required using the API wrappers\n",
    "print(arxiv.name)"
   ]
  },
  {
   "cell_type": "code",
   "execution_count": 6,
   "id": "3baff345",
   "metadata": {},
   "outputs": [
    {
     "data": {
      "text/plain": [
       "\"Published: 2024-07-22\\nTitle: Attention Is All You Need But You Don't Need All Of It For Inference of Large Language Models\\nAuthors: Georgy Tyukin, Gbetondji J-S Dovonon, Jean Kaddour, Pasquale Minervini\\nSummary: The inference demand for LLMs has skyrocketed in recent months, and serving\\nmodels with low latencies remains challenging due to the quadratic input length\\ncomplexity of the attention layers. In this work, we investigate the effect of\\ndropping MLP and attention layers at inference time o\""
      ]
     },
     "execution_count": 6,
     "metadata": {},
     "output_type": "execute_result"
    }
   ],
   "source": [
    "arxiv.invoke(\"Attention is all you need\")"
   ]
  },
  {
   "cell_type": "code",
   "execution_count": null,
   "id": "cb01b1e7",
   "metadata": {},
   "outputs": [
    {
     "name": "stdout",
     "output_type": "stream",
     "text": [
      "wikipedia\n"
     ]
    }
   ],
   "source": [
    "api_wrapper_wiki = WikipediaAPIWrapper(top_k_results=1,doc_content_chars_max=500)\n",
    "wiki = WikipediaQueryRun(api_wrapper=api_wrapper_wiki, description=\"Query Wikipedia articles\")   # making the wiki tools using API too\n",
    "print(wiki.name)"
   ]
  },
  {
   "cell_type": "code",
   "execution_count": 8,
   "id": "af305de8",
   "metadata": {},
   "outputs": [
    {
     "data": {
      "text/plain": [
       "'Page: Cancer\\nSummary: Cancer is a group of diseases involving abnormal cell growth with the potential to invade or spread to other parts of the body. These contrast with benign tumors, which do not spread. Possible signs and symptoms include a lump, abnormal bleeding, prolonged cough, unexplained weight loss, and a change in bowel movements. While these symptoms may indicate cancer, they can also have other causes. Over 100 types of cancers affect humans.\\nTobacco use is the cause of about 22% of'"
      ]
     },
     "execution_count": 8,
     "metadata": {},
     "output_type": "execute_result"
    }
   ],
   "source": [
    "wiki.invoke(\"Cancer\")"
   ]
  },
  {
   "cell_type": "code",
   "execution_count": null,
   "id": "73d29e38",
   "metadata": {},
   "outputs": [],
   "source": [
    "from dotenv import load_dotenv\n",
    "load_dotenv()\n",
    "\n",
    "import os\n",
    "\n",
    "os.environ[\"TAVILY_API_KEY\"] = os.getenv(\"TAVILY_API_KEY\")   # Tavily is more like a search engine for answering questions.like google, using its API\n",
    "os.environ[\"GROQ_API_KEY\"] =os.getenv(\"GROQ_API_KEY\") "
   ]
  },
  {
   "cell_type": "code",
   "execution_count": 12,
   "id": "6da5e6ea",
   "metadata": {},
   "outputs": [],
   "source": [
    "from langchain_community.tools.tavily_search import TavilySearchResults\n",
    "\n",
    "tavily = TavilySearchResults()"
   ]
  },
  {
   "cell_type": "code",
   "execution_count": 13,
   "id": "920b105a",
   "metadata": {},
   "outputs": [
    {
     "data": {
      "text/plain": [
       "[{'title': 'Artificial Intelligence News - ScienceDaily',\n",
       "  'url': 'https://www.sciencedaily.com/news/computers_math/artificial_intelligence/',\n",
       "  'content': \"Tuesday, November 12, 2024\\n\\nGiving Robots Superhuman Vision Using Radio Signals\\n\\nMonday, November 11, 2024\\n\\nAI Can Detect Serious Neurologic Changes in Babies in the NICU Using Video Data Alone\\nRobot That Watched Surgery Videos Performs With Skill of Human Doctor, Researchers Report\\n\\nThursday, November 7, 2024\\n\\nRobot Learns How to Clean a Washbasin\\n\\nWednesday, November 6, 2024\\n\\nAI-Driven Mobile Robots Team Up to Tackle Chemical Synthesis\\n\\nThursday, October 31, 2024 [...] Using Robots in Nursing Homes Linked to Higher Employee Retention, Better Patient Care\\n\\nMonday, January 6, 2025\\n\\nAI Slashes Cost and Time for Chip Design, but That Is Not All\\n\\nThursday, January 2, 2025\\n\\nArtificial Intelligence: Algorithms Improve Medical Image Analysis\\n\\nFriday, December 27, 2024\\n\\nCrossing the Uncanny Valley: Breakthrough in Technology for Lifelike Facial Expressions in Androids\\n\\nThursday, December 26, 2024\\n\\nWind Sensing by Biomimetic Flexible Flapping Wing With Strain Sensors [...] Thursday, October 17, 2024\\n\\nPeople Sympathize With Bullied AI Bots\\nAI Breakthrough in Human Action Detection Technology\\n\\nTuesday, October 15, 2024\\n\\nResearchers Develop System Cat's Eye-Inspired Vision for Autonomous Robotics\\n\\nThursday, October 10, 2024\\n\\nSimulation Mimics How the Brain Grows Neurons, Paving the Way for Future Disease Treatments\\n\\nWednesday, October 9, 2024\",\n",
       "  'score': 0.7434107},\n",
       " {'title': 'AI News | Latest AI News, Analysis & Events',\n",
       "  'url': 'https://www.artificialintelligence-news.com/',\n",
       "  'content': 'Applications, Artificial Intelligence, Companies, DeepMind, Google, Industries\\nApril 14, 2025\\nIEA: The opportunities and challenges of AI for global energy\\nApplications, Artificial Intelligence, Energy, Ethics & Society, Industries, Research\\nApril 10, 2025\\nSpot AI introduces the world’s first universal AI agent builder for security cameras\\nApplications, Artificial Intelligence, Healthcare, Security\\nApril 10, 2025\\nDeep Learning\\nAlibaba Qwen QwQ-32B: Scaled reinforcement learning showcase [...] Marketing Tech News\\nApril 16, 2025\\nOpenAI explores social platform following $40B funding round\\n\\nAI News\\nApril 15, 2025\\nMeta will train AI models using EU user data\\n\\nDeveloper Tech News\\nApril 15, 2025\\nMasquerading payment npm package installs backdoor\\n\\nTelecoms Tech News\\nApril 15, 2025\\nFCC chair calls EU satellite strategy ‘anti-American’\\nSubscribe\\nAll our premium content and latest tech news delivered straight to your inbox\\nSubscribe\\n\\n\\n\\n\\n\\n\\n\\nExplore [...] Applications, Artificial Intelligence, Companies, DeepMind, Google, Industries\\nApril 14, 2025\\nBCG: Analysing the geopolitics of generative AI\\nArtificial Intelligence, Companies, Development, Enterprise, Interviews, Legislation & Government, Research\\nApril 11, 2025\\nMachine Learning\\nTony Blair Institute AI copyright report sparks backlash\\nAGI, Artificial Intelligence, Development, Ethics & Society, Legislation & Government, Machine Learning\\nApril 2, 2025',\n",
       "  'score': 0.709684},\n",
       " {'title': 'AI News & Artificial Intelligence - TechCrunch',\n",
       "  'url': 'https://techcrunch.com/category/artificial-intelligence/',\n",
       "  'content': '1 day ago\\n\\n\\n\\nAI\\nOpenAI hires team behind GV-backed AI eval platform Context.ai\\n\\nIvan Mehta\\n\\n1 day ago\\n\\n\\n\\nAI\\nAnthropic forms a new team to grow its AWS business\\n\\nKyle Wiggers\\n\\n2 days ago\\n\\n\\n\\nAI\\nAnthropic’s Claude can now read your Gmail\\n\\nMaxwell Zeff\\n\\n2 days ago\\n\\n\\n\\nAI\\nGoogle’s Veo 2 video generating model comes to Gemini\\n\\nKyle Wiggers\\n\\n2 days ago\\n\\n\\n\\nAI\\nWitness a dynamic dialogue between two visionary CEOs\\n\\nCindy Zackney\\n\\n2 days ago\\n\\n\\n\\nIn Brief [...] Headlines Only\\nLoad More\\n\\n\\n\\nAI\\nxAI adds a ‘memory’ feature to Grok\\n\\nKyle Wiggers\\n\\n4 hours ago\\n\\n\\n\\nIn Brief\\n\\nTrump administration reportedly considers a US DeepSeek ban\\n\\nMaxwell Zeff\\n\\n7 hours ago\\n\\n\\n\\nAI\\nOpenAI’s latest AI models have a new safeguard to prevent biorisks\\n\\nMaxwell Zeff\\n\\n9 hours ago\\n\\n\\n\\nAI\\nOpenAI is reportedly in talks to buy Windsurf for $3B, with news expected later this week\\n\\nMarina Temkin\\n\\n10 hours ago [...] 16 hours ago\\n\\n\\n\\nGovernment & Policy\\nAMD expects $800M charge due to US’ license requirement for AI chips\\n\\nKyle Wiggers\\n\\n17 hours ago\\n\\n\\n\\nAI\\nA dev built a test to see how AI chatbots respond to controversial topics\\n\\nKyle Wiggers\\n\\n18 hours ago\\n\\n\\n\\nAI\\nHammerspace, an unstructured data wrangler used by Meta, raises $100M at $500M+ valuation\\n\\nIngrid Lunden\\n\\n19 hours ago\\n\\n\\n\\nGovernment & Policy\\nGoogle used AI to suspend over 39M ad accounts suspected of fraud\\n\\nJagmeet Singh\\n\\n20 hours ago',\n",
       "  'score': 0.6922474},\n",
       " {'title': 'Artificial intelligence - NBC News',\n",
       "  'url': 'https://www.nbcnews.com/artificial-intelligence',\n",
       "  'content': \"ARTIFICIAL INTELLIGENCE\\nThe latest news and top stories on artificial intelligence, including ChatGPT, AI Chatbot and Bard.\\n Getty Images\\nARTIFICIAL INTELLIGENCE\\n'Billionaires versus billionaires': OpenAI feud between Elon Musk, Sam Altman faces federal judge\\n SeongJoon Cho / Bloomberg via Getty Images file\\nARTIFICIAL INTELLIGENCE\\nOpenAI partners with U.S. National Laboratories on scientific research, nuclear weapons security\\nAI NEWS\",\n",
       "  'score': 0.65173227}]"
      ]
     },
     "execution_count": 13,
     "metadata": {},
     "output_type": "execute_result"
    }
   ],
   "source": [
    "tavily.invoke(\"Provide me the recent news in AI\")"
   ]
  },
  {
   "cell_type": "code",
   "execution_count": 14,
   "id": "71248193",
   "metadata": {},
   "outputs": [],
   "source": [
    "# Combining all these tools in the list\n",
    "tools = [arxiv, wiki, tavily]"
   ]
  },
  {
   "cell_type": "code",
   "execution_count": null,
   "id": "6d5b5eca",
   "metadata": {},
   "outputs": [],
   "source": [
    "# Initialize the LLM model\n",
    "\n",
    "from langchain_groq import ChatGroq\n",
    "\n",
    "llm = ChatGroq(                                     #LLM model used here is groq's ChatGroq qwen-qwq-32b \n",
    "    model=\"qwen-qwq-32b\"\n",
    ")"
   ]
  },
  {
   "cell_type": "code",
   "execution_count": 18,
   "id": "96060763",
   "metadata": {},
   "outputs": [
    {
     "data": {
      "text/plain": [
       "AIMessage(content='\\n<think>\\nOkay, the user is asking, \"What is AI?\" Let me start by breaking down the term. AI stands for Artificial Intelligence, so I should explain what that means. I need to make sure to cover the basics first. Maybe start with a simple definition, like AI being the simulation of human intelligence in machines. But I should also mention that it\\'s a broad field, so perhaps outline the main components: learning, reasoning, problem-solving.\\n\\nWait, the user might be a beginner, so I shouldn\\'t assume too much prior knowledge. I should explain the key areas of AI without jargon. Let me think about how to categorize AI types. There\\'s the distinction between general AI and narrow AI. General AI being human-like intelligence that can handle various tasks, but that\\'s still theoretical. Narrow AI is what we have now, like voice assistants or recommendation systems. I should mention both to clarify the current state versus future possibilities.\\n\\nAlso, it\\'s important to touch on techniques or methods used in AI. Machine learning is a subset of AI, right? So maybe explain that machine learning involves training models on data to make decisions. Deep learning is another term that comes to mind, which is part of machine learning using neural networks. But I need to keep it simple, maybe not go too deep into the technical details unless necessary.\\n\\nApplications are crucial to make the concept relatable. The user might want to know where AI is used. Examples like self-driving cars, virtual assistants, medical diagnosis, and recommendation systems would be good. These examples show the practical side and how AI impacts daily life.\\n\\nEthical considerations are another point. AI raises issues like bias, privacy, job displacement, and safety. Mentioning these gives a balanced view and shows the complexity of the field. Maybe a brief sentence on each to highlight that there are challenges beyond just the technical aspects.\\n\\nThe history of AI could be a good addition to provide context. Starting from the Dartmouth Conference in 1956, through different waves like the AI winter, and up to recent advancements with big data and improved algorithms. This helps the reader understand how the field has evolved.\\n\\nI should also differentiate between AI, machine learning, and deep learning to avoid confusion. Sometimes people use these terms interchangeably, but they have distinct meanings. Clarifying that AI is the broader concept, while machine learning and deep learning are subsets.\\n\\nPotential future developments might be interesting. Things like AGI (Artificial General Intelligence), advancements in robotics, and how AI could shape various industries in the coming years. But I should note that AGI is still speculative.\\n\\nWait, I need to structure this in a coherent way. Start with a definition, then break down into types, techniques, applications, ethics, history, and future. That way the answer flows logically. Also, use examples to illustrate each point. Avoid being too technical, but still informative.\\n\\nHmm, should I mention specific technologies or companies? Maybe not necessary unless it\\'s a common example. Like mentioning Siri, Alexa, or AlphaGo to make it concrete. Also, maybe touch on the difference between strong AI (AGI) and weak AI (narrow AI). That distinction is important for understanding current limitations.\\n\\nLet me also think about possible misconceptions. Some people might think AI is only about robots, but it\\'s broader. Or that AI has consciousness, which it doesn\\'t. Clarifying that AI is a tool designed by humans can address those points subtly.\\n\\nI should also consider the user\\'s possible follow-up questions. They might ask about specific areas or applications, but since the question is straightforward, I\\'ll stick to the basics here. Keep the answer comprehensive but concise.\\n\\nPutting it all together: Start with a clear definition, explain key concepts, outline types of AI, discuss techniques like ML and DL, list applications, touch on ethics and history, and conclude with the future. Make sure each section is brief and connects logically to the next. Use simple language, avoid jargon unless explained. Check for clarity and flow. Alright, that should cover the essential aspects without overwhelming the reader.\\n</think>\\n\\n**Artificial Intelligence (AI)** refers to the simulation of human intelligence in machines that are programmed to mimic the way humans think, learn, and make decisions. It involves creating systems capable of performing tasks that typically require human-like cognition, such as understanding language, recognizing patterns, solving problems, and even exhibiting creativity.\\n\\n### Key Components of AI:\\n1. **Learning**: The ability to learn from data and improve performance over time.\\n2. **Reasoning**: The capacity to use logic to navigate complex situations and find solutions.\\n3. **Problem-Solving**: The skill to tackle unfamiliar tasks or challenges.\\n4. **Perception**: Interpreting sensory inputs (like visual or auditory data).\\n5. **Natural Language Processing (NLP)**: Understanding and generating human language.\\n\\n---\\n\\n### Types of AI:\\n1. **Narrow (Weak) AI**:  \\n   - Designed to perform **specific tasks** within a limited scope.  \\n   - *Examples*: \\n     - Virtual assistants (Siri, Alexa)  \\n     - Recommendation systems (Netflix, Spotify)  \\n     - Image recognition software  \\n   - **Current reality**: Most AI today is narrow AI.\\n\\n2. **General (Strong) AI**:  \\n   - A hypothetical system with **human-like cognitive abilities**, capable of understanding, learning, and applying knowledge across diverse contexts.  \\n   - *Status*: Still theoretical; no existing technology achieves this.\\n\\n3. **Artificial Superintelligence**:  \\n   - A speculative future AI surpassing human intelligence in all areas, including creativity, scientific discovery, and emotional understanding.  \\n   - *Status*: Purely a topic of debate in philosophy and science fiction.\\n\\n---\\n\\n### Techniques Used in AI:\\n- **Machine Learning (ML)**: A subset of AI where systems learn patterns from data to make predictions or decisions (e.g., spam filters, fraud detection).  \\n- **Deep Learning**: A type of ML using **neural networks** inspired by the human brain, enabling tasks like image and speech recognition (e.g., facial recognition systems).  \\n- **Natural Language Processing (NLP)**: Enabling machines to process and generate human language (e.g., chatbots, language translation tools).  \\n\\n---\\n\\n### Applications of AI:\\n- **Healthcare**: Diagnosing diseases, drug discovery, and personalized treatment plans.  \\n- **Autonomous Systems**: Self-driving cars and drones.  \\n- **Business**: Customer service chatbots, predictive analytics, and stock trading algorithms.  \\n- **Entertainment**: Content recommendations, video game AI, and digital art generation.  \\n- **Robotics**: Industrial automation and humanoid robots.  \\n\\n---\\n\\n### Ethical and Societal Considerations:\\n- **Bias and Fairness**: AI systems can inherit biases from training data, leading to unfair outcomes (e.g., in hiring or law enforcement).  \\n- **Privacy**: Concerns around data collection and surveillance.  \\n- **Job Impact**: Automation may disrupt certain industries, requiring workforce adaptation.  \\n- **Safety and Control**: Ensuring AI systems align with human values and do not act maliciously.  \\n\\n---\\n\\n### History & Evolution:\\n- **1950s–1970s**: The term \"AI\" coined in 1956; early successes in logic-based systems.  \\n- **1980s–2010s**: Periods of \"AI winters\" due to overhype and technical limitations.  \\n- **2010s–Present**: Rapid advancements driven by **big data**, powerful computing, and breakthroughs in deep learning (e.g., AlphaGo, GPT-4).  \\n\\n---\\n\\n### Key Takeaways:\\n- **AI is a tool**: It amplifies human capabilities but is not inherently conscious or self-aware.  \\n- **Limitations**: Current AI is task-specific and lacks true \"understanding\" (it follows patterns, not intent).  \\n- **Future Potential**: Ongoing research explores AGI, ethical frameworks, and responsible innovation.  \\n\\nIn essence, AI is a transformative field reshaping industries, but its development requires careful consideration of its societal and ethical implications.', additional_kwargs={}, response_metadata={'token_usage': {'completion_tokens': 1664, 'prompt_tokens': 14, 'total_tokens': 1678, 'completion_time': 4.15905229, 'prompt_time': 0.003151699, 'queue_time': 4.434154475, 'total_time': 4.162203989}, 'model_name': 'qwen-qwq-32b', 'system_fingerprint': 'fp_a91d9c2cfb', 'finish_reason': 'stop', 'logprobs': None}, id='run-d057d14b-4c39-4c18-8d3e-f48013c414d7-0', usage_metadata={'input_tokens': 14, 'output_tokens': 1664, 'total_tokens': 1678})"
      ]
     },
     "execution_count": 18,
     "metadata": {},
     "output_type": "execute_result"
    }
   ],
   "source": [
    "llm.invoke(\"What is AI ?\")"
   ]
  },
  {
   "cell_type": "code",
   "execution_count": 19,
   "id": "8b6b3d0f",
   "metadata": {},
   "outputs": [],
   "source": [
    "llm_with_tools = llm.bind_tools(tools=tools)"
   ]
  },
  {
   "cell_type": "code",
   "execution_count": 20,
   "id": "62353831",
   "metadata": {},
   "outputs": [
    {
     "data": {
      "text/plain": [
       "AIMessage(content='', additional_kwargs={'tool_calls': [{'id': 'call_kz8w', 'function': {'arguments': '{\"query\": \"recent news about AI\"}', 'name': 'tavily_search_results_json'}, 'type': 'function'}]}, response_metadata={'token_usage': {'completion_tokens': 151, 'prompt_tokens': 323, 'total_tokens': 474, 'completion_time': 0.368863042, 'prompt_time': 0.029494335, 'queue_time': 0.232439904, 'total_time': 0.398357377}, 'model_name': 'qwen-qwq-32b', 'system_fingerprint': 'fp_3796682456', 'finish_reason': 'tool_calls', 'logprobs': None}, id='run-5a582bd1-7811-4b7a-bef3-d5e90d4e7c21-0', tool_calls=[{'name': 'tavily_search_results_json', 'args': {'query': 'recent news about AI'}, 'id': 'call_kz8w', 'type': 'tool_call'}], usage_metadata={'input_tokens': 323, 'output_tokens': 151, 'total_tokens': 474})"
      ]
     },
     "execution_count": 20,
     "metadata": {},
     "output_type": "execute_result"
    }
   ],
   "source": [
    "# Execute this call \n",
    "\n",
    "llm_with_tools.invoke(\"What is the recent news about AI?\")"
   ]
  },
  {
   "cell_type": "markdown",
   "id": "42cd08d5",
   "metadata": {},
   "source": [
    "Here the LLM is not just making a response ,but it is calling a tool , which in the given context of the query is tavily, it is tool calling to fetch the recent news. This way , it is combining multiple tools in a single response."
   ]
  },
  {
   "cell_type": "markdown",
   "id": "900fa969",
   "metadata": {},
   "source": [
    "ie now the LLM is able to understand which tool to call and how to call it , thus improving its performance and making it more useful."
   ]
  },
  {
   "cell_type": "code",
   "execution_count": null,
   "id": "2b725444",
   "metadata": {},
   "outputs": [],
   "source": [
    "#Similarly here are examples of calling the arxiv and wikipedia tools\n",
    "\n"
   ]
  },
  {
   "cell_type": "code",
   "execution_count": 23,
   "id": "d6995d0f",
   "metadata": {},
   "outputs": [
    {
     "data": {
      "text/plain": [
       "AIMessage(content='', additional_kwargs={'tool_calls': [{'id': 'call_mmra', 'function': {'arguments': '{\"query\": \"RNN recent\"}', 'name': 'arxiv'}, 'type': 'function'}]}, response_metadata={'token_usage': {'completion_tokens': 500, 'prompt_tokens': 325, 'total_tokens': 825, 'completion_time': 1.251982261, 'prompt_time': 0.042595342, 'queue_time': 0.554292075, 'total_time': 1.294577603}, 'model_name': 'qwen-qwq-32b', 'system_fingerprint': 'fp_a91d9c2cfb', 'finish_reason': 'tool_calls', 'logprobs': None}, id='run-8f75837e-1064-4d7a-a72c-40bf8f00a353-0', tool_calls=[{'name': 'arxiv', 'args': {'query': 'RNN recent'}, 'id': 'call_mmra', 'type': 'tool_call'}], usage_metadata={'input_tokens': 325, 'output_tokens': 500, 'total_tokens': 825})"
      ]
     },
     "execution_count": 23,
     "metadata": {},
     "output_type": "execute_result"
    }
   ],
   "source": [
    "llm_with_tools.invoke(\"Give me a recent research paper on RNN?\")     ##arxiv"
   ]
  },
  {
   "cell_type": "code",
   "execution_count": 24,
   "id": "a26ce688",
   "metadata": {},
   "outputs": [
    {
     "data": {
      "text/plain": [
       "AIMessage(content='', additional_kwargs={'tool_calls': [{'id': 'call_93wh', 'function': {'arguments': '{\"query\": \"Reinforcement Learning\"}', 'name': 'wikipedia'}, 'type': 'function'}]}, response_metadata={'token_usage': {'completion_tokens': 391, 'prompt_tokens': 321, 'total_tokens': 712, 'completion_time': 0.971232392, 'prompt_time': 0.026815328, 'queue_time': 0.23774119000000002, 'total_time': 0.99804772}, 'model_name': 'qwen-qwq-32b', 'system_fingerprint': 'fp_3796682456', 'finish_reason': 'tool_calls', 'logprobs': None}, id='run-e7b767bd-15b0-4e3c-97a4-4d555b6b15a4-0', tool_calls=[{'name': 'wikipedia', 'args': {'query': 'Reinforcement Learning'}, 'id': 'call_93wh', 'type': 'tool_call'}], usage_metadata={'input_tokens': 321, 'output_tokens': 391, 'total_tokens': 712})"
      ]
     },
     "execution_count": 24,
     "metadata": {},
     "output_type": "execute_result"
    }
   ],
   "source": [
    "llm_with_tools.invoke(\"What is Reinforcement Learning?\")     ##Wikipedia"
   ]
  },
  {
   "cell_type": "markdown",
   "id": "7a8246f2",
   "metadata": {},
   "source": [
    "Also in some relevant cases, the LLM can directly give the response to the user's question, instead of calling a tool."
   ]
  },
  {
   "cell_type": "markdown",
   "id": "53fff772",
   "metadata": {},
   "source": [
    "## WORKFLOW"
   ]
  },
  {
   "cell_type": "code",
   "execution_count": 27,
   "id": "b7cd315f",
   "metadata": {},
   "outputs": [],
   "source": [
    "# State schema\n",
    "from typing_extensions import TypedDict  \n",
    "from langchain_core.messages import AnyMessage #Human Message or AI Message\n",
    "from typing import Annotated  #labelling\n",
    "from langgraph.graph.message import add_messages  #Reducers in langgraph"
   ]
  },
  {
   "cell_type": "code",
   "execution_count": 28,
   "id": "4a985f7c",
   "metadata": {},
   "outputs": [],
   "source": [
    "class State(TypedDict):\n",
    "    messages: Annotated[list[AnyMessage], add_messages]\n"
   ]
  },
  {
   "cell_type": "code",
   "execution_count": 29,
   "id": "9a1afb8b",
   "metadata": {},
   "outputs": [],
   "source": [
    "# Entire Chatbot using LangGraph\n",
    "from IPython.display import display, Image\n",
    "from langgraph.graph import StateGraph, START, END\n",
    "from langgraph.prebuilt import ToolNode\n",
    "from langgraph.prebuilt import tools_condition"
   ]
  },
  {
   "cell_type": "code",
   "execution_count": 33,
   "id": "71e516db",
   "metadata": {},
   "outputs": [
    {
     "data": {
      "image/png": "[encoded data removed]",
      "text/plain": [
       "<IPython.core.display.Image object>"
      ]
     },
     "metadata": {},
     "output_type": "display_data"
    }
   ],
   "source": [
    "# node definition\n",
    "\n",
    "def tool_calling_llm(state:State):\n",
    "    return {\"messages\": [llm_with_tools.invoke(state[\"messages\"])]}\n",
    "\n",
    "#Build the graph\n",
    "builder = StateGraph(State)\n",
    "builder.add_node(\"tool_calling_llm\", tool_calling_llm)\n",
    "builder.add_node(\"tools\", ToolNode(tools))\n",
    "\n",
    "#Edges\n",
    "builder.add_edge(START, \"tool_calling_llm\")\n",
    "builder.add_conditional_edges(\n",
    "    \"tool_calling_llm\",\n",
    "    #If the latest message (result) from assistant is a tool call -> tool condition routes to tools\n",
    "    #If the latest message (result) from assistant is not a tool call -> tools condition routes to tool_calling_llm\n",
    "    tools_condition,\n",
    ")\n",
    "\n",
    "builder.add_edge(\"tools\", END)\n",
    "\n",
    "graph = builder.compile()\n",
    "\n",
    "# View\n",
    "display(Image(graph.get_graph().draw_mermaid_png()))"
   ]
  },
  {
   "cell_type": "code",
   "execution_count": null,
   "id": "6bf3fbf3",
   "metadata": {},
   "outputs": [
    {
     "name": "stdout",
     "output_type": "stream",
     "text": [
      "================================\u001b[1m Human Message \u001b[0m=================================\n",
      "\n",
      "1706.03762\n",
      "==================================\u001b[1m Ai Message \u001b[0m==================================\n",
      "Tool Calls:\n",
      "  arxiv (call_tvk0)\n",
      " Call ID: call_tvk0\n",
      "  Args:\n",
      "    query: 1706.03762\n",
      "=================================\u001b[1m Tool Message \u001b[0m=================================\n",
      "Name: arxiv\n",
      "\n",
      "Published: 2023-08-02\n",
      "Title: Attention Is All You Need\n",
      "Authors: Ashish Vaswani, Noam Shazeer, Niki Parmar, Jakob Uszkoreit, Llion Jones, Aidan N. Gomez, Lukasz Kaiser, Illia Polosukhin\n",
      "Summary: The dominant sequence transduction models are based on complex recurrent or\n",
      "convolutional neural networks in an encoder-decoder configuration. The best\n",
      "performing models also connect the encoder and decoder through an attention\n",
      "mechanism. We propose a new simple network architecture, the Transformer, base\n"
     ]
    }
   ],
   "source": [
    "messages = graph.invoke({\"messages\": \"1706.03762\"})     # \"1706.03762\" is an example of a recent research paper\n",
    "for m in messages['messages']:\n",
    "    m.pretty_print()"
   ]
  },
  {
   "cell_type": "code",
   "execution_count": 36,
   "id": "4c676535",
   "metadata": {},
   "outputs": [
    {
     "name": "stdout",
     "output_type": "stream",
     "text": [
      "================================\u001b[1m Human Message \u001b[0m=================================\n",
      "\n",
      "Hello , How are you today?\n",
      "==================================\u001b[1m Ai Message \u001b[0m==================================\n",
      "\n",
      "Hello! I'm just a large language model, so I don't have feelings, but I'm here to help you! How can I assist you today?\n"
     ]
    }
   ],
   "source": [
    "messages = graph.invoke({\"messages\": \"Hello , How are you today?\"})\n",
    "for m in messages['messages']:\n",
    "    m.pretty_print()"
   ]
  },
  {
   "cell_type": "code",
   "execution_count": 39,
   "id": "87598045",
   "metadata": {},
   "outputs": [
    {
     "name": "stdout",
     "output_type": "stream",
     "text": [
      "================================\u001b[1m Human Message \u001b[0m=================================\n",
      "\n",
      "Hello , My name is Abhinav?\n",
      "==================================\u001b[1m Ai Message \u001b[0m==================================\n",
      "\n",
      "Hello Abhinav! Nice to meet you. How can I assist you today? Feel free to ask me any questions or let me know if you need help with anything specific.\n"
     ]
    }
   ],
   "source": [
    "messages = graph.invoke({\"messages\": \"Hello , My name is Abhinav?\"})\n",
    "for m in messages['messages']:\n",
    "    m.pretty_print()"
   ]
  },
  {
   "cell_type": "markdown",
   "id": "730e2664",
   "metadata": {},
   "source": [
    "As we can see, the LLM is able to understand the user's question, call the appropriate tool  and give the response. This way, it is able to provide a more relevant and useful response to the user.\n",
    "\n",
    "ie If not a relevenat tool call, the LLM will directly give the response to the user's question."
   ]
  },
  {
   "cell_type": "code",
   "execution_count": 38,
   "id": "f0a9ec86",
   "metadata": {},
   "outputs": [
    {
     "data": {
      "image/png": "[encoded data removed]",
      "text/plain": [
       "<IPython.core.display.Image object>"
      ]
     },
     "metadata": {},
     "output_type": "display_data"
    }
   ],
   "source": [
    "# node definition\n",
    "\n",
    "def tool_calling_llm(state:State):\n",
    "    return {\"messages\": [llm_with_tools.invoke(state[\"messages\"])]}\n",
    "\n",
    "#Build the graph\n",
    "builder = StateGraph(State)\n",
    "builder.add_node(\"tool_calling_llm\", tool_calling_llm)\n",
    "builder.add_node(\"tools\", ToolNode(tools))\n",
    "\n",
    "#Edges\n",
    "builder.add_edge(START, \"tool_calling_llm\")\n",
    "builder.add_conditional_edges(\n",
    "    \"tool_calling_llm\",\n",
    "    #If the latest message (result) from assistant is a tool call -> tool condition routes to tools\n",
    "    #If the latest message (result) from assistant is not a tool call -> tools condition routes to tool_calling_llm\n",
    "    tools_condition,\n",
    ")\n",
    "\n",
    "builder.add_edge(\"tools\", \"tool_calling_llm\")\n",
    "\n",
    "graph = builder.compile()\n",
    "\n",
    "# View\n",
    "\n",
    "display(Image(graph.get_graph().draw_mermaid_png()))"
   ]
  },
  {
   "cell_type": "markdown",
   "id": "6e039520",
   "metadata": {},
   "source": [
    "Here only a slight change is made in the graph(workflow). Now, other than giving the rseponse directly from tools to the end, it returns the result of the LLM to the tool_calling_llm node. The result is sent to the end ndoe only from the tool_calling_llm node. "
   ]
  },
  {
   "cell_type": "code",
   "execution_count": 41,
   "id": "65661d71",
   "metadata": {},
   "outputs": [
    {
     "name": "stdout",
     "output_type": "stream",
     "text": [
      "================================\u001b[1m Human Message \u001b[0m=================================\n",
      "\n",
      "What is the recent AI news and then please tell me the recent research paper on RNN?\n",
      "==================================\u001b[1m Ai Message \u001b[0m==================================\n",
      "Tool Calls:\n",
      "  tavily_search_results_json (call_5d7c)\n",
      " Call ID: call_5d7c\n",
      "  Args:\n",
      "    query: recent AI news\n",
      "  arxiv (call_eebg)\n",
      " Call ID: call_eebg\n",
      "  Args:\n",
      "    query: Recurrent Neural Networks\n",
      "=================================\u001b[1m Tool Message \u001b[0m=================================\n",
      "Name: tavily_search_results_json\n",
      "\n",
      "[{\"title\": \"The latest AI news we announced in March - Google Blog\", \"url\": \"https://blog.google/technology/ai/google-ai-updates-march-2025/\", \"content\": \"Press corner\\n\\nRSS feed\\n\\nSubscribe\\nBreadcrumb\\n\\n\\nTechnology\\nAI\\n\\nThe latest AI news we announced in March\\nApr 04, 2025\\n·4 min read\\nShare\\nTwitterFacebookLinkedInMail\\nCopy link\\nHere’s a recap of some of our biggest AI updates from March, including Gemini 2.5 Pro, expanded access to AI Overviews, the release of AI Mode and more. [...] March was all about expanding AI across our products to make them even more helpful. The Gemini app was upgraded to include new features like personalization, Canvas and Audio Overviews, and we made our Deep Research and Gems features available at no cost. We also added our speedy Gemini 2.0 Flash Thinking experimental model under the hood — and one-upped ourselves just a few days later by making our most intelligent AI model, Gemini 2.5 Pro (experimental), available to all Gemini users. [...] We launched three new initiatives to protect and restore nature using AI. A startup accelerator, kicking off in May 2025, includes programming, mentoring and technical support from Google. Google.org is also providing $3 million to support AI-enabled solutions for biodiversity, bioeconomy and agriculture from Brazilian nonprofits. And we released SpeciesNet, a Cloud-based, open-source AI model for identifying animal species from camera trap photos, enabling people to protect nature and\", \"score\": 0.82186085}, {\"title\": \"AI News | Latest AI News, Analysis & Events\", \"url\": \"https://www.artificialintelligence-news.com/\", \"content\": \"Marketing Tech News\\nApril 16, 2025\\nOpenAI explores social platform following $40B funding round\\n\\nAI News\\nApril 15, 2025\\nMeta will train AI models using EU user data\\n\\nDeveloper Tech News\\nApril 15, 2025\\nMasquerading payment npm package installs backdoor\\n\\nTelecoms Tech News\\nApril 15, 2025\\nFCC chair calls EU satellite strategy ‘anti-American’\\nSubscribe\\nAll our premium content and latest tech news delivered straight to your inbox\\nSubscribe\\n\\n\\n\\n\\n\\n\\n\\nExplore [...] Artificial Intelligence, Companies, Deep & Reinforcement Learning, Development\\nMarch 6, 2025\\nDeepSeek-R1 reasoning models rival OpenAI in performance\\nArtificial Intelligence, Companies, Deep & Reinforcement Learning, Development\\nJanuary 20, 2025\\nNew AI training techniques aim to overcome current challenges\\nDeep & Reinforcement Learning, Machine Learning, NVIDIA, Research\\nNovember 28, 2024 [...] Applications, Artificial Intelligence, Companies, DeepMind, Google, Industries\\nApril 14, 2025\\nIEA: The opportunities and challenges of AI for global energy\\nApplications, Artificial Intelligence, Energy, Ethics & Society, Industries, Research\\nApril 10, 2025\\nSpot AI introduces the world’s first universal AI agent builder for security cameras\\nApplications, Artificial Intelligence, Healthcare, Security\\nApril 10, 2025\\nDeep Learning\\nAlibaba Qwen QwQ-32B: Scaled reinforcement learning showcase\", \"score\": 0.81025416}, {\"title\": \"AI News & Artificial Intelligence - TechCrunch\", \"url\": \"https://techcrunch.com/category/artificial-intelligence/\", \"content\": \"1 day ago\\n\\n\\n\\nAI\\nOpenAI hires team behind GV-backed AI eval platform Context.ai\\n\\nIvan Mehta\\n\\n1 day ago\\n\\n\\n\\nAI\\nAnthropic forms a new team to grow its AWS business\\n\\nKyle Wiggers\\n\\n2 days ago\\n\\n\\n\\nAI\\nAnthropic’s Claude can now read your Gmail\\n\\nMaxwell Zeff\\n\\n2 days ago\\n\\n\\n\\nAI\\nGoogle’s Veo 2 video generating model comes to Gemini\\n\\nKyle Wiggers\\n\\n2 days ago\\n\\n\\n\\nAI\\nWitness a dynamic dialogue between two visionary CEOs\\n\\nCindy Zackney\\n\\n2 days ago\\n\\n\\n\\nIn Brief [...] Headlines Only\\nLoad More\\n\\n\\n\\nAI\\nxAI adds a ‘memory’ feature to Grok\\n\\nKyle Wiggers\\n\\n4 hours ago\\n\\n\\n\\nIn Brief\\n\\nTrump administration reportedly considers a US DeepSeek ban\\n\\nMaxwell Zeff\\n\\n7 hours ago\\n\\n\\n\\nAI\\nOpenAI’s latest AI models have a new safeguard to prevent biorisks\\n\\nMaxwell Zeff\\n\\n9 hours ago\\n\\n\\n\\nAI\\nOpenAI is reportedly in talks to buy Windsurf for $3B, with news expected later this week\\n\\nMarina Temkin\\n\\n10 hours ago [...] 16 hours ago\\n\\n\\n\\nGovernment & Policy\\nAMD expects $800M charge due to US’ license requirement for AI chips\\n\\nKyle Wiggers\\n\\n17 hours ago\\n\\n\\n\\nAI\\nA dev built a test to see how AI chatbots respond to controversial topics\\n\\nKyle Wiggers\\n\\n18 hours ago\\n\\n\\n\\nAI\\nHammerspace, an unstructured data wrangler used by Meta, raises $100M at $500M+ valuation\\n\\nIngrid Lunden\\n\\n19 hours ago\\n\\n\\n\\nGovernment & Policy\\nGoogle used AI to suspend over 39M ad accounts suspected of fraud\\n\\nJagmeet Singh\\n\\n20 hours ago\", \"score\": 0.7653308}, {\"title\": \"Artificial intelligence - NBC News\", \"url\": \"https://www.nbcnews.com/artificial-intelligence\", \"content\": \"ARTIFICIAL INTELLIGENCE\\nThe latest news and top stories on artificial intelligence, including ChatGPT, AI Chatbot and Bard.\\n Getty Images\\nARTIFICIAL INTELLIGENCE\\n'Billionaires versus billionaires': OpenAI feud between Elon Musk, Sam Altman faces federal judge\\n SeongJoon Cho / Bloomberg via Getty Images file\\nARTIFICIAL INTELLIGENCE\\nOpenAI partners with U.S. National Laboratories on scientific research, nuclear weapons security\\nAI NEWS\", \"score\": 0.7498395}]\n",
      "=================================\u001b[1m Tool Message \u001b[0m=================================\n",
      "Name: arxiv\n",
      "\n",
      "Published: 2020-10-20\n",
      "Title: Implicit recurrent networks: A novel approach to stationary input processing with recurrent neural networks in deep learning\n",
      "Authors: Sebastian Sanokowski\n",
      "Summary: The brain cortex, which processes visual, auditory and sensory data in the\n",
      "brain, is known to have many recurrent connections within its layers and from\n",
      "higher to lower layers. But, in the case of machine learning with neural\n",
      "networks, it is generally assumed that strict feed-forward architectures are\n",
      "suit\n",
      "==================================\u001b[1m Ai Message \u001b[0m==================================\n",
      "\n",
      "Here's the information based on the tool responses:\n",
      "\n",
      "---\n",
      "\n",
      "### **Recent AI News (As of April 2025):**\n",
      "1. **Google AI Updates (March 2025):**  \n",
      "   - Google launched Gemini 2.5 Pro, an advanced AI model, alongside expanded features in the Gemini app (e.g., personalization, Canvas, and Audio Overviews).  \n",
      "   - Free access to tools like Deep Research and Gems, and the introduction of the Gemini 2.0 Flash Thinking experimental model.  \n",
      "   - New AI initiatives for environmental conservation, including a startup accelerator and the open-source SpeciesNet tool for species identification.  \n",
      "\n",
      "2. **Industry Developments:**  \n",
      "   - OpenAI is reportedly in talks to acquire Windsurf ($3B deal) and introduced safeguards against biosecurity risks.  \n",
      "   - Anthropic integrated Claude into Gmail and expanded its AWS business.  \n",
      "   - Google suspended 39M ad accounts for AI-related fraud.  \n",
      "\n",
      "---\n",
      "\n",
      "### **Research Paper on RNNs (Arxiv Result):**  \n",
      "The tool returned a paper from **2020** titled *\"Implicit recurrent networks: A novel approach to stationary input processing with recurrent neural networks in deep learning\"* by Sebastian Sanokowski.  \n",
      "- **Summary Snippet:** Explores recurrent connections in neural networks inspired by brain cortex architecture, focusing on stationary input processing.  \n",
      "- **Note:** This paper is over five years old. For *recent* research (2023–2024), consider refining the search with terms like:  \n",
      "  - *\"Recent advances in recurrent neural networks 2023–2024\"*  \n",
      "  - *\"RNN architectures for sequence modeling\"*  \n",
      "  - *\"Hybrid RNN-Transformer models\"*  \n",
      "\n",
      "The Arxiv search might have prioritized relevance over recency. Try adding a date filter or more specific keywords for newer studies.\n",
      "\n",
      "---\n",
      "\n",
      "Let me know if you'd like to refine the search further!\n"
     ]
    }
   ],
   "source": [
    "messages = graph.invoke({\"messages\": \"What is the recent AI news and then please tell me the recent research paper on RNN?\"})\n",
    "for m in messages['messages']:\n",
    "    m.pretty_print()"
   ]
  },
  {
   "cell_type": "markdown",
   "id": "2f477131",
   "metadata": {},
   "source": [
    "## ReAct framework "
   ]
  },
  {
   "cell_type": "markdown",
   "id": "d8425c46",
   "metadata": {},
   "source": [
    "This last used workflow is the demonstration of the ReAct(Reasoning and Acting) framework of LLM models. Here the tool_calling_llm node will reason first and identify that if it needs to call a tool and how many contexts are there in the provided question or query. Then it will call the appropriate tool(s) based on the identified contexts and provide the final response. This helps in improving the LLM's efficiency and accuracy."
   ]
  }
 ],
 "metadata": {
  "kernelspec": {
   "display_name": ".venv",
   "language": "python",
   "name": "python3"
  },
  "language_info": {
   "codemirror_mode": {
    "name": "ipython",
    "version": 3
   },
   "file_extension": ".py",
   "mimetype": "text/x-python",
   "name": "python",
   "nbconvert_exporter": "python",
   "pygments_lexer": "ipython3",
   "version": "3.13.3"
  }
 },
 "nbformat": 4,
 "nbformat_minor": 5
}
